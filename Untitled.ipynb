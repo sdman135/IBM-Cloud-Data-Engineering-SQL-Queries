{
 "cells": [
  {
   "cell_type": "code",
   "execution_count": null,
   "metadata": {
    "ExecuteTime": {
     "end_time": "2022-01-03T00:10:30.409268Z",
     "start_time": "2022-01-03T00:10:30.391268Z"
    }
   },
   "outputs": [],
   "source": [
    "# !pip install --force-reinstall ibm_db==3.1.0 ibm_db_sa==0.3.3\n",
    "# #Ensure we don't load_ext with sqlalchemy>=1.4 (incompadible)\n",
    "# !pip uninstall sqlalchemy==1.4 -y && pip install sqlalchemy==1.3.24\n",
    "# !pip install ipython-sql"
   ]
  },
  {
   "cell_type": "code",
   "execution_count": 12,
   "metadata": {
    "ExecuteTime": {
     "end_time": "2022-01-03T00:14:49.324817Z",
     "start_time": "2022-01-03T00:14:49.163820Z"
    }
   },
   "outputs": [
    {
     "ename": "ModuleNotFoundError",
     "evalue": "No module named 'ipython_sql'",
     "output_type": "error",
     "traceback": [
      "\u001b[1;31m---------------------------------------------------------------------------\u001b[0m",
      "\u001b[1;31mModuleNotFoundError\u001b[0m                       Traceback (most recent call last)",
      "\u001b[1;32m<ipython-input-12-d05f78163a19>\u001b[0m in \u001b[0;36m<module>\u001b[1;34m\u001b[0m\n\u001b[0;32m      3\u001b[0m \u001b[1;32mimport\u001b[0m \u001b[0mibm_db\u001b[0m\u001b[1;33m\u001b[0m\u001b[1;33m\u001b[0m\u001b[0m\n\u001b[0;32m      4\u001b[0m \u001b[1;32mimport\u001b[0m \u001b[0mibm_db_dbi\u001b[0m\u001b[1;33m\u001b[0m\u001b[1;33m\u001b[0m\u001b[0m\n\u001b[1;32m----> 5\u001b[1;33m \u001b[1;32mimport\u001b[0m \u001b[0mipython_sql\u001b[0m\u001b[1;33m\u001b[0m\u001b[1;33m\u001b[0m\u001b[0m\n\u001b[0m",
      "\u001b[1;31mModuleNotFoundError\u001b[0m: No module named 'ipython_sql'"
     ]
    }
   ],
   "source": [
    "import pandas as pd\n",
    "import numpy as np\n",
    "import ibm_db\n",
    "import ibm_db_dbi\n"
   ]
  },
  {
   "cell_type": "markdown",
   "metadata": {},
   "source": [
    "# Connecting to IBM CloudPak DB2 "
   ]
  },
  {
   "cell_type": "code",
   "execution_count": 45,
   "metadata": {
    "ExecuteTime": {
     "end_time": "2022-01-03T00:28:51.658935Z",
     "start_time": "2022-01-03T00:28:51.643935Z"
    }
   },
   "outputs": [
    {
     "name": "stdout",
     "output_type": "stream",
     "text": [
      "The sql extension is already loaded. To reload it, use:\n",
      "  %reload_ext sql\n"
     ]
    }
   ],
   "source": [
    "%load_ext sql"
   ]
  },
  {
   "cell_type": "code",
   "execution_count": 46,
   "metadata": {
    "ExecuteTime": {
     "end_time": "2022-01-03T00:28:52.135933Z",
     "start_time": "2022-01-03T00:28:52.120933Z"
    }
   },
   "outputs": [],
   "source": [
    "%reload_ext sql\n",
    "# run custom file with IBM's CloudPak DB2 credentials - for privacy purpose\n",
    "%run hide/IBM_Db2-credentials.py"
   ]
  },
  {
   "cell_type": "code",
   "execution_count": 50,
   "metadata": {
    "ExecuteTime": {
     "end_time": "2022-01-03T00:32:34.393949Z",
     "start_time": "2022-01-03T00:32:33.502933Z"
    }
   },
   "outputs": [],
   "source": [
    "%sql ibm_db_sa://{dsn_uid}:{dsn_pwd}@{dsn_hostname}:{dsn_port}/{dsn_database}?security={dsn_security}"
   ]
  },
  {
   "cell_type": "code",
   "execution_count": 78,
   "metadata": {
    "ExecuteTime": {
     "end_time": "2022-01-03T00:48:48.129067Z",
     "start_time": "2022-01-03T00:48:48.116070Z"
    }
   },
   "outputs": [
    {
     "name": "stdout",
     "output_type": "stream",
     "text": [
      "['DRIVER={IBM DB2 ODBC DRIVER}', 'DATABASE=bludb', 'HOSTNAME=54a2f15b-5c0f-46df-8954-7e38e612c2bd.c1ogj3sd0tgtu0lqde00.databases.appdomain.cloud', 'PORT=32733', 'PROTOCOL=TCPIP', 'SECURITY=SSL']\n"
     ]
    }
   ],
   "source": [
    "#Create the dsn connection string\n",
    "\n",
    "dsn = (\n",
    "    \"DRIVER={0};\"\n",
    "    \"DATABASE={1};\"\n",
    "    \"HOSTNAME={2};\"\n",
    "    \"PORT={3};\"\n",
    "    \"PROTOCOL={4};\"\n",
    "    \"UID={5};\"\n",
    "    \"PWD={6};\"\n",
    "    \"SECURITY={7};\").format(dsn_driver, dsn_database, dsn_hostname, dsn_port, dsn_protocol, dsn_uid, dsn_pwd,dsn_security)\n",
    "\n",
    "#print the connection string to check correct values are specified\n",
    "list_dsn_info = dsn.split(';')\n",
    "index_nums = [0,1,2,4,7]\n",
    "output = [list_dsn_info[val] for val in index_nums]\n",
    "print(output)"
   ]
  },
  {
   "cell_type": "code",
   "execution_count": 16,
   "metadata": {
    "ExecuteTime": {
     "end_time": "2022-01-03T00:17:11.782334Z",
     "start_time": "2022-01-03T00:17:07.836333Z"
    }
   },
   "outputs": [
    {
     "name": "stdout",
     "output_type": "stream",
     "text": [
      "Connected to database: bludb \n",
      "As user: bvr08213 \n",
      "On host: 54a2f15b-5c0f-46df-8954-7e38e612c2bd.c1ogj3sd0tgtu0lqde00.databases.appdomain.cloud\n"
     ]
    }
   ],
   "source": [
    "#Create database connection\n",
    "\n",
    "try:\n",
    "    conn = ibm_db.connect(dsn, \"\", \"\")\n",
    "    print (f\"Connected to database: {dsn_database} \\nAs user: {dsn_uid} \\nOn host: {dsn_hostname}\")\n",
    "\n",
    "except:\n",
    "    print (\"Unable to connect: \", ibm_db.conn_errormsg() )\n"
   ]
  },
  {
   "cell_type": "code",
   "execution_count": null,
   "metadata": {
    "ExecuteTime": {
     "end_time": "2022-01-03T00:10:35.440269Z",
     "start_time": "2022-01-03T00:10:35.430268Z"
    }
   },
   "outputs": [],
   "source": [
    "#Retrieve Metadata for the Database Server\n",
    "\n",
    "server = ibm_db.server_info(conn)\n",
    "\n",
    "print (\"DBMS_NAME: \", server.DBMS_NAME)\n",
    "print (\"DBMS_VER:  \", server.DBMS_VER)\n",
    "print (\"DB_NAME:   \", server.DB_NAME)"
   ]
  },
  {
   "cell_type": "code",
   "execution_count": null,
   "metadata": {
    "ExecuteTime": {
     "end_time": "2022-01-03T00:10:35.455268Z",
     "start_time": "2022-01-03T00:10:35.444270Z"
    },
    "scrolled": true
   },
   "outputs": [],
   "source": [
    "#Retrieve Metadata for the Database Client / Driver\n",
    "client = ibm_db.client_info(conn)\n",
    "\n",
    "print (\"DRIVER_NAME:          \", client.DRIVER_NAME) \n",
    "print (\"DRIVER_VER:           \", client.DRIVER_VER)\n",
    "print (\"DATA_SOURCE_NAME:     \", client.DATA_SOURCE_NAME)\n",
    "print (\"DRIVER_ODBC_VER:      \", client.DRIVER_ODBC_VER)\n",
    "print (\"ODBC_VER:             \", client.ODBC_VER)\n",
    "print (\"ODBC_SQL_CONFORMANCE: \", client.ODBC_SQL_CONFORMANCE)\n",
    "print (\"APPL_CODEPAGE:        \", client.APPL_CODEPAGE)\n",
    "print (\"CONN_CODEPAGE:        \", client.CONN_CODEPAGE)"
   ]
  },
  {
   "cell_type": "markdown",
   "metadata": {},
   "source": [
    "# Loading data "
   ]
  },
  {
   "cell_type": "code",
   "execution_count": null,
   "metadata": {
    "ExecuteTime": {
     "end_time": "2022-01-03T00:10:35.693267Z",
     "start_time": "2022-01-03T00:10:35.458268Z"
    },
    "scrolled": false
   },
   "outputs": [],
   "source": [
    "census_data = pd.read_csv('hide/data/ChicagoCensusData.csv', header=0)\n",
    "print('Chicago Census Data')\n",
    "display(census_data)\n",
    "\n",
    "crime_data = pd.read_csv('hide/data/ChicagoCrimeData.csv', header=0)\n",
    "print('Chicago Crime Data')\n",
    "display(crime_data)\n",
    "\n",
    "school_data = pd.read_csv('hide/data/ChicagoPublicSchools.csv', header=0)\n",
    "print('Chicago Public Schools Data')\n",
    "display(school_data)"
   ]
  },
  {
   "cell_type": "code",
   "execution_count": null,
   "metadata": {
    "ExecuteTime": {
     "end_time": "2022-01-03T00:10:35.772267Z",
     "start_time": "2022-01-03T00:10:35.696288Z"
    }
   },
   "outputs": [],
   "source": [
    "#renaming columns for inserting ease later (columns containing spaces,commas, and starts with numbers)\n",
    "school_data.rename(columns={'Elementary, Middle, or High School':'Elementary_Middle_or_High_School',\n",
    "                            '9th Grade EXPLORE (2009)':'Gr_9_EXPLORE_2009',\n",
    "                            '9th Grade EXPLORE (2010)':'Gr_9_EXPLORE_2010',\n",
    "                            '10th Grade PLAN (2009)':'Gr_10_PLAN_2009',\n",
    "                            '10th Grade PLAN (2010)':'Gr_10_PLAN_2010',\n",
    "                            '11th Grade Average ACT (2011)':'Gr_11_Average_ACT_2011'\n",
    "                            }, inplace= True)\n",
    "school_data"
   ]
  },
  {
   "cell_type": "code",
   "execution_count": null,
   "metadata": {
    "ExecuteTime": {
     "end_time": "2022-01-03T00:10:35.804268Z",
     "start_time": "2022-01-03T00:10:35.774268Z"
    }
   },
   "outputs": [],
   "source": [
    "census_data.info()"
   ]
  },
  {
   "cell_type": "code",
   "execution_count": null,
   "metadata": {
    "ExecuteTime": {
     "end_time": "2022-01-03T00:10:35.836267Z",
     "start_time": "2022-01-03T00:10:35.807268Z"
    }
   },
   "outputs": [],
   "source": [
    "crime_data.info()"
   ]
  },
  {
   "cell_type": "code",
   "execution_count": null,
   "metadata": {
    "ExecuteTime": {
     "end_time": "2022-01-03T00:10:35.882266Z",
     "start_time": "2022-01-03T00:10:35.839268Z"
    },
    "scrolled": false
   },
   "outputs": [],
   "source": [
    "school_data.info()"
   ]
  },
  {
   "cell_type": "markdown",
   "metadata": {},
   "source": [
    "# Dropping tables"
   ]
  },
  {
   "cell_type": "code",
   "execution_count": null,
   "metadata": {
    "ExecuteTime": {
     "end_time": "2022-01-03T00:10:36.167268Z",
     "start_time": "2022-01-03T00:10:35.884268Z"
    }
   },
   "outputs": [],
   "source": [
    "#Lets first drop the tables in case it exists from a previous attempt\n",
    "dropQuery = \"DROP TABLE IF EXISTS CENSUS_DATA\"\n",
    "dropStmt = ibm_db.exec_immediate(conn, dropQuery)\n",
    "\n",
    "dropQuery2 = \"DROP TABLE IF EXISTS CHICAGO_CRIME_DATA\"\n",
    "dropStmt2 = ibm_db.exec_immediate(conn, dropQuery2)\n",
    "\n",
    "\n",
    "dropQuery3 = \"DROP TABLE IF EXISTS CHICAGO_PUBLIC_SCHOOLS\"\n",
    "dropStmt3 = ibm_db.exec_immediate(conn, dropQuery3)\n"
   ]
  },
  {
   "cell_type": "markdown",
   "metadata": {},
   "source": [
    "# Creating Tables"
   ]
  },
  {
   "cell_type": "code",
   "execution_count": null,
   "metadata": {
    "ExecuteTime": {
     "end_time": "2022-01-03T00:10:36.710268Z",
     "start_time": "2022-01-03T00:10:36.170269Z"
    }
   },
   "outputs": [],
   "source": [
    "# Constructing the Create Table DDL statements\n",
    "\n",
    "\n",
    "# sql create statement\n",
    "create_CENSUS_DATA = \"\"\"CREATE TABLE IF NOT EXISTS CENSUS_DATA(\n",
    "\n",
    "                                      COMMUNITY_AREA_NUMBER INTEGER PRIMARY KEY NOT NULL, \n",
    "                                      COMMUNITY_AREA_NAME VARCHAR(30), \n",
    "                                      PERCENT_OF_HOUSING_CROWDED FLOAT(1), \n",
    "                                      PERCENT_HOUSEHOLDS_BELOW_POVERTY FLOAT(1), \n",
    "                                      PERCENT_AGED_16__UNEMPLOYED FLOAT(1),\n",
    "                                      PERCENT_AGED_25__WITHOUT_HIGH_SCHOOL_DIPLOMA FLOAT(1),\n",
    "                                      PERCENT_AGED_UNDER_18_OR_OVER_64 FLOAT(1),\n",
    "                                      PER_CAPITA_INCOME INTEGER,\n",
    "                                      HARDSHIP_INDEX INTEGER\n",
    "                                                  \n",
    "                                      )\"\"\"\n",
    "# execute the statement\n",
    "createStmt1 = ibm_db.exec_immediate(conn, create_CENSUS_DATA)\n",
    "\n",
    "\n",
    "# sql create statement\n",
    "create_CHICAGO_CRIME_DATA = \"\"\"CREATE TABLE IF NOT EXISTS CHICAGO_CRIME_DATA(\n",
    "\n",
    "                                            ID INTEGER PRIMARY KEY NOT NULL, \n",
    "                                            CASE_NUMBER VARCHAR(12), \n",
    "                                            DATE DATE, \n",
    "                                            BLOCK VARCHAR(30), \n",
    "                                            IUCR VARCHAR(5), \n",
    "                                            PRIMARY_TYPE VARCHAR(35), \n",
    "                                            DESCRIPTION VARCHAR(30), \n",
    "                                            LOCATION_DESCRIPTION VARCHAR(50), \n",
    "                                            ARREST BOOLEAN, \n",
    "                                            DOMESTIC BOOLEAN,\n",
    "                                            BEAT INTEGER,\n",
    "                                            DISTRICT INTEGER, \n",
    "                                            WARD INTEGER, \n",
    "                                            COMMUNITY_AREA_NUMBER INTEGER, \n",
    "                                            FBICODE VARCHAR(5), \n",
    "                                            X_COORDINATE VARCHAR(10), \n",
    "                                            Y_COORDINATE VARCHAR(10), \n",
    "                                            YEAR INTEGER, \n",
    "                                            LATITUDE FLOAT, \n",
    "                                            LONGITUDE FLOAT, \n",
    "                                            LOCATION VARCHAR(30)\n",
    "                                                           \n",
    "                                            )\"\"\"\n",
    "# execute the statement\n",
    "createStmt2 = ibm_db.exec_immediate(conn, create_CHICAGO_CRIME_DATA)\n",
    "\n",
    "\n",
    "# sql create statement\n",
    "create_CHICAGO_PUBLIC_SCHOOLS = \"\"\"CREATE TABLE IF NOT EXISTS CHICAGO_PUBLIC_SCHOOLS(\n",
    "\n",
    "                                                School_ID INTEGER PRIMARY KEY NOT NULL, \n",
    "                                                NAME_OF_SCHOOL VARCHAR(100), \n",
    "                                                Elementary_Middle_or_High_School VARCHAR(3), \n",
    "                                                Street_Address VARCHAR(30), \n",
    "                                                City VARCHAR(8),\n",
    "                                                State VARCHAR(3),\n",
    "                                                ZIP_Code INTEGER,\n",
    "                                                Phone_Number VARCHAR(16),\n",
    "                                                Link VARCHAR(100),\n",
    "                                                Network_Manager VARCHAR(30),\n",
    "                                                Collaborative_Name VARCHAR(40),\n",
    "                                                Adequate_Yearly_Progress_Made_ VARCHAR(4),\n",
    "                                                Track_Schedule VARCHAR(16),\n",
    "                                                CPS_Performance_Policy_Status VARCHAR(16),\n",
    "                                                CPS_Performance_Policy_Level VARCHAR(20),\n",
    "                                                HEALTHY_SCHOOL_CERTIFIED VARCHAR(4),\n",
    "                                                Safety_Icon VARCHAR(12),\n",
    "                                                SAFETY_SCORE INTEGER DEFAULT NULL,\n",
    "                                                Family_Involvement_Icon VARCHAR(12),\n",
    "                                                Family_Involvement_Score INTEGER DEFAULT NULL,\n",
    "                                                Environment_Icon VARCHAR(12),\n",
    "                                                Environment_Score INTEGER DEFAULT NULL, \n",
    "                                                Instruction_Icon VARCHAR(12),\n",
    "                                                Instruction_Score INTEGER DEFAULT NULL, \n",
    "                                                Leaders_Icon VARCHAR(12),\n",
    "                                                Leaders_Score INTEGER DEFAULT NULL, \n",
    "                                                Teachers_Icon VARCHAR(12),\n",
    "                                                Teachers_Score INTEGER DEFAULT NULL, \n",
    "                                                Parent_Engagement_Icon VARCHAR(12),\n",
    "                                                Parent_Engagement_Score INTEGER DEFAULT NULL,\n",
    "                                                Parent_Environment_Icon VARCHAR(12),\n",
    "                                                Parent_Environment_Score INTEGER DEFAULT NULL,\n",
    "                                                AVERAGE_STUDENT_ATTENDANCE DECIMAL(5,4), \n",
    "                                                Rate_of_Misconducts__per_100_students_ FLOAT,\n",
    "                                                Average_Teacher_Attendance DECIMAL(5,4),\n",
    "                                                Individualized_Education_Program_Compliance_Rate DECIMAL(5,4), \n",
    "                                                Pk_2_Literacy__ FLOAT DEFAULT NULL,\n",
    "                                                Pk_2_Math__ FLOAT DEFAULT NULL, \n",
    "                                                Gr3_5_Grade_Level_Math__ FLOAT DEFAULT NULL, \n",
    "                                                Gr3_5_Grade_Level_Read__ FLOAT DEFAULT NULL,\n",
    "                                                Gr3_5_Keep_Pace_Read__ FLOAT DEFAULT NULL, \n",
    "                                                Gr3_5_Keep_Pace_Math__ FLOAT DEFAULT NULL,\n",
    "                                                Gr6_8_Grade_Level_Math__ FLOAT DEFAULT NULL, \n",
    "                                                Gr6_8_Grade_Level_Read__ FLOAT DEFAULT NULL,\n",
    "                                                Gr6_8_Keep_Pace_Math_ FLOAT DEFAULT NULL, \n",
    "                                                Gr6_8_Keep_Pace_Read__ FLOAT DEFAULT NULL,\n",
    "                                                Gr_8_Explore_Math__ FLOAT DEFAULT NULL, \n",
    "                                                Gr_8_Explore_Read__ FLOAT DEFAULT NULL, \n",
    "                                                ISAT_Exceeding_Math__ FLOAT DEFAULT NULL,\n",
    "                                                ISAT_Exceeding_Reading__ FLOAT DEFAULT NULL, \n",
    "                                                ISAT_Value_Add_Math FLOAT DEFAULT NULL,\n",
    "                                                ISAT_Value_Add_Read FLOAT DEFAULT NULL, \n",
    "                                                ISAT_Value_Add_Color_Math VARCHAR(8),\n",
    "                                                ISAT_Value_Add_Color_Read VARCHAR(8),\n",
    "                                                Students_Taking__Algebra__ FLOAT DEFAULT NULL,\n",
    "                                                Students_Passing__Algebra__ FLOAT DEFAULT NULL, \n",
    "                                                Gr_9_EXPLORE_2009 FLOAT(1),\n",
    "                                                Gr_9_EXPLORE_2010 FLOAT DEFAULT NULL, \n",
    "                                                Gr_10_PLAN_2009 FLOAT DEFAULT NULL,\n",
    "                                                Gr_10_PLAN_2010 FLOAT DEFAULT NULL, \n",
    "                                                Net_Change_EXPLORE_and_PLAN FLOAT DEFAULT NULL,\n",
    "                                                Gr_11_Average_ACT_2011 FLOAT DEFAULT NULL, \n",
    "                                                Net_Change_PLAN_and_ACT FLOAT DEFAULT NULL,\n",
    "                                                College_Eligibility__ FLOAT DEFAULT NULL, \n",
    "                                                Graduation_Rate__ FLOAT DEFAULT NULL,\n",
    "                                                College_Enrollment_Rate__ FLOAT DEFAULT NULL, \n",
    "                                                COLLEGE_ENROLLMENT INTEGER,\n",
    "                                                General_Services_Route INTEGER, \n",
    "                                                Freshman_on_Track_Rate__ FLOAT DEFAULT NULL, \n",
    "                                                X_COORDINATE VARCHAR(10), \n",
    "                                                Y_COORDINATE VARCHAR(10), \n",
    "                                                LATITUDE FLOAT,\n",
    "                                                LONGITUDE FLOAT, \n",
    "                                                COMMUNITY_AREA_NUMBER INTEGER,\n",
    "                                                COMMUNITY_AREA_NAME VARCHAR(30), \n",
    "                                                WARD INTEGER, \n",
    "                                                Police_District INTEGER, \n",
    "                                                LOCATION VARCHAR(30)\n",
    "                                                \n",
    "                                                )\"\"\"\n",
    "                                            \n",
    "                                                \n",
    "# execute the statement\n",
    "createStmt3 = ibm_db.exec_immediate(conn, create_CHICAGO_PUBLIC_SCHOOLS)"
   ]
  },
  {
   "cell_type": "code",
   "execution_count": null,
   "metadata": {
    "ExecuteTime": {
     "end_time": "2022-01-03T00:10:36.758271Z",
     "start_time": "2022-01-03T00:10:36.713268Z"
    }
   },
   "outputs": [],
   "source": [
    "#function to auto create table <--- NICE BASE TO WORK FROM (Needs some manual tweaking but works very well)\n",
    "def SQL_CREATE_STATEMENT_FROM_DATAFRAME(DATAFRAME, TABLE_NAME):\n",
    "\n",
    "    import pandas as pd\n",
    "    sql_text = pd.io.sql.get_schema(DATAFRAME.reset_index(), TABLE_NAME)   \n",
    "    return sql_text\n",
    "\n",
    "SQL_CREATE_STATEMENT_FROM_DATAFRAME(school_data,'Chicago Public Schools Data')"
   ]
  },
  {
   "cell_type": "markdown",
   "metadata": {},
   "source": [
    "# Insert"
   ]
  },
  {
   "cell_type": "code",
   "execution_count": null,
   "metadata": {
    "ExecuteTime": {
     "end_time": "2022-01-03T00:10:37.029269Z",
     "start_time": "2022-01-03T00:10:36.761268Z"
    }
   },
   "outputs": [],
   "source": [
    "#function to auto create insert statement from dataframe\n",
    "\n",
    "def SQL_INSERT_STATEMENT_FROM_DATAFRAME(DATAFRAME, TABLE_NAME):\n",
    "    sql_texts = []\n",
    "    for index, row in DATAFRAME.iterrows():       \n",
    "        sql_texts.append('INSERT INTO '+TABLE_NAME+' ('+ str(', '.join(DATAFRAME.columns))+ ') VALUES '+ str(tuple(row.values)))        \n",
    "    return \" \".join(sql_texts)\n",
    "\n",
    "census_data_insert = SQL_INSERT_STATEMENT_FROM_DATAFRAME(census_data,'CENSUS_DATA')\n",
    "crime_data_insert = SQL_INSERT_STATEMENT_FROM_DATAFRAME(crime_data,'CHICAGO_CRIME_DATA')\n",
    "school_data_insert = SQL_INSERT_STATEMENT_FROM_DATAFRAME(school_data,'CHICAGO_PUBLIC_SCHOOLS')\n",
    "\n",
    "#print example\n",
    "print(census_data_insert)"
   ]
  },
  {
   "cell_type": "code",
   "execution_count": null,
   "metadata": {
    "ExecuteTime": {
     "end_time": "2022-01-03T00:10:37.044276Z",
     "start_time": "2022-01-03T00:10:37.032268Z"
    }
   },
   "outputs": [],
   "source": [
    "from sqlalchemy import create_engine\n",
    "\n",
    "def insert_data(dataframe, database_table_name):\n",
    "    engine = create_engine(f'ibm_db_sa://{dsn_uid}:{dsn_pwd}@{dsn_hostname}:{dsn_port}/{dsn_database}')\n",
    "    \n",
    "    dataframe.to_sql(database_table_name, conn, if_exists='replace')\n",
    "    "
   ]
  },
  {
   "cell_type": "code",
   "execution_count": null,
   "metadata": {
    "ExecuteTime": {
     "start_time": "2022-01-03T00:10:30.470Z"
    }
   },
   "outputs": [],
   "source": [
    "census_data.to_sql('CHICAGO_PUBLIC_SCHOOLS', engine)"
   ]
  },
  {
   "cell_type": "code",
   "execution_count": null,
   "metadata": {
    "ExecuteTime": {
     "start_time": "2022-01-03T00:10:30.473Z"
    }
   },
   "outputs": [],
   "source": [
    "crime_data.to_sql('CHICAGO_PUBLIC_SCHOOLS', engine)"
   ]
  },
  {
   "cell_type": "code",
   "execution_count": null,
   "metadata": {
    "ExecuteTime": {
     "start_time": "2022-01-03T00:10:30.478Z"
    }
   },
   "outputs": [],
   "source": [
    "school_data.to_sql('CHICAGO_PUBLIC_SCHOOLS', engine)"
   ]
  },
  {
   "cell_type": "code",
   "execution_count": null,
   "metadata": {},
   "outputs": [],
   "source": []
  },
  {
   "cell_type": "markdown",
   "metadata": {},
   "source": [
    "# Querying"
   ]
  },
  {
   "cell_type": "code",
   "execution_count": null,
   "metadata": {
    "ExecuteTime": {
     "start_time": "2022-01-03T00:10:30.483Z"
    }
   },
   "outputs": [],
   "source": [
    "#connection for pandas\n",
    "pconn = ibm_db_dbi.Connection(conn)\n",
    "\n",
    "#Construct the query\n",
    "selectQuery1 = \"\"\"SELECT CASE_NUMBER \n",
    "                 FROM CHICAGO_CRIME_DATA \n",
    "                 WHERE (PRIMARY_TYPE = 'KIDNAPPING') AND (DESCRIPTION LIKE 'CHILD%');\"\"\"\n",
    "\n",
    "#retrieve the query results into a pandas dataframe\n",
    "pdf = pandas.read_sql(selectQuery1, pconn)\n",
    "\n",
    "#Call the DataFrame \n",
    "pdf"
   ]
  },
  {
   "cell_type": "markdown",
   "metadata": {},
   "source": [
    "# Closing Connection"
   ]
  },
  {
   "cell_type": "code",
   "execution_count": null,
   "metadata": {
    "ExecuteTime": {
     "start_time": "2022-01-03T00:10:30.487Z"
    }
   },
   "outputs": [],
   "source": [
    "# # closing the connection\n",
    "\n",
    "# ibm_db.close(conn)"
   ]
  }
 ],
 "metadata": {
  "kernelspec": {
   "display_name": "Python 3",
   "language": "python",
   "name": "python3"
  },
  "language_info": {
   "codemirror_mode": {
    "name": "ipython",
    "version": 3
   },
   "file_extension": ".py",
   "mimetype": "text/x-python",
   "name": "python",
   "nbconvert_exporter": "python",
   "pygments_lexer": "ipython3",
   "version": "3.7.4"
  },
  "toc": {
   "base_numbering": 1,
   "nav_menu": {},
   "number_sections": true,
   "sideBar": true,
   "skip_h1_title": false,
   "title_cell": "Table of Contents",
   "title_sidebar": "Contents",
   "toc_cell": false,
   "toc_position": {},
   "toc_section_display": true,
   "toc_window_display": false
  }
 },
 "nbformat": 4,
 "nbformat_minor": 2
}
